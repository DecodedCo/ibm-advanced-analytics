{
 "cells": [
  {
   "cell_type": "markdown",
   "metadata": {},
   "source": [
    "# 1. Loading the Data"
   ]
  },
  {
   "cell_type": "code",
   "execution_count": null,
   "metadata": {
    "collapsed": true
   },
   "outputs": [],
   "source": [
    "# Import the necessary libraries.\n",
    "import math\n",
    "\n",
    "# Libraries for making plots.\n",
    "%matplotlib inline\n",
    "import matplotlib.pyplot as plt\n",
    "import seaborn as sns\n",
    "\n",
    "# Libraries for calculations\n",
    "import pandas as pd\n",
    "import numpy as np\n",
    "np.random.seed(2600)"
   ]
  },
  {
   "cell_type": "code",
   "execution_count": null,
   "metadata": {
    "collapsed": true
   },
   "outputs": [],
   "source": [
    "data = pd.read_csv(\"https://github.com/DecodedCo/ibm-advanced-analytics/blob/master/data.csv?raw=true\")"
   ]
  },
  {
   "cell_type": "code",
   "execution_count": null,
   "metadata": {},
   "outputs": [],
   "source": [
    "print data.shape"
   ]
  },
  {
   "cell_type": "code",
   "execution_count": null,
   "metadata": {},
   "outputs": [],
   "source": [
    "print '\\n', data.head()"
   ]
  },
  {
   "cell_type": "code",
   "execution_count": null,
   "metadata": {},
   "outputs": [],
   "source": [
    "# Show all the available columns\n",
    "print data.columns"
   ]
  },
  {
   "cell_type": "code",
   "execution_count": null,
   "metadata": {},
   "outputs": [],
   "source": [
    "# The failures is what we are interested in, we can get some basic understanding of \n",
    "# how that variable is distributed.\n",
    "print data.failures.describe()"
   ]
  },
  {
   "cell_type": "markdown",
   "metadata": {},
   "source": [
    "<br/>\n",
    "<br/>\n",
    "<br/>\n",
    "<br/>\n",
    "<br/>\n",
    "---\n",
    "# 2.1 Exploratory Visualisation"
   ]
  },
  {
   "cell_type": "code",
   "execution_count": null,
   "metadata": {},
   "outputs": [],
   "source": [
    "SELECTED_COLUMN = 'Vacuum'\n",
    "\n",
    "\n",
    "# Plotting code.\n",
    "plt.figure(figsize=(15,5))\n",
    "ax1 = plt.subplot(1, 2, 1)\n",
    "data[data.failures==0][SELECTED_COLUMN].hist()\n",
    "ax1.set_xlim([data[SELECTED_COLUMN].min(), data[SELECTED_COLUMN].max()])\n",
    "ax2 = plt.subplot(1, 2, 2)\n",
    "data[data.failures==1][SELECTED_COLUMN].hist(color='darkred')\n",
    "ax2.set_xlim([data[SELECTED_COLUMN].min(), data[SELECTED_COLUMN].max()])"
   ]
  },
  {
   "cell_type": "markdown",
   "metadata": {},
   "source": [
    "<br/>\n",
    "<br/>\n",
    "<br/>\n",
    "<br/>\n",
    "<br/>\n",
    "---\n",
    "# 2.2 Exploratory Visualisation"
   ]
  },
  {
   "cell_type": "code",
   "execution_count": null,
   "metadata": {},
   "outputs": [],
   "source": [
    "VARIABLE_ONE = 'Temp-1'\n",
    "VARIABLE_TWO = 'Vacuum'\n",
    "COLOR_VARIABLE = 'Humidity-1'\n",
    "\n",
    "\n",
    "plt.figure(figsize=(12,8))\n",
    "ax1 = plt.subplot(1, 1, 1)\n",
    "data.plot.scatter(x=VARIABLE_ONE, y=VARIABLE_TWO, s=12, c=COLOR_VARIABLE, alpha=0.2, cmap=plt.get_cmap('coolwarm'), ax=ax1)\n",
    "data[data.failures==1].plot.scatter(x=VARIABLE_ONE, y=VARIABLE_TWO, s=24, alpha=0.9, c='none', edgecolors='black', ax=ax1)"
   ]
  },
  {
   "cell_type": "markdown",
   "metadata": {},
   "source": [
    "<br/>\n",
    "<br/>\n",
    "<br/>\n",
    "<br/>\n",
    "<br/>\n",
    "---\n",
    "# 2.3 Exploratory Visualisation"
   ]
  },
  {
   "cell_type": "code",
   "execution_count": null,
   "metadata": {},
   "outputs": [],
   "source": [
    "sns.clustermap(data.corr())"
   ]
  },
  {
   "cell_type": "markdown",
   "metadata": {},
   "source": [
    "<br/>\n",
    "<br/>\n",
    "<br/>\n",
    "<br/>\n",
    "<br/>\n",
    "---\n",
    "# 3.1 Dimensionality Reduction: PCA"
   ]
  },
  {
   "cell_type": "code",
   "execution_count": null,
   "metadata": {
    "collapsed": true
   },
   "outputs": [],
   "source": [
    "# This creates data-blocks that we can manipulate.\n",
    "X = data[data.columns[1:]].values\n",
    "y = data.failures.values"
   ]
  },
  {
   "cell_type": "code",
   "execution_count": null,
   "metadata": {
    "collapsed": true
   },
   "outputs": [],
   "source": [
    "# Load the PCA Library. This one is available on scikit-learn\n",
    "from sklearn.decomposition import PCA\n",
    "\n",
    "# Create the PCA, give the data to the PCA and `fit` the analysis.\n",
    "pca = PCA(n_components=3)\n",
    "pca.fit(X)\n",
    "\n",
    "# Transform the original data to new data.\n",
    "X_pca = pca.transform(X)\n",
    "\n",
    "# Store the data in the original data-frame.\n",
    "data['pca-1'], data['pca-2'], data['pca-3'] = X_pca[:,0], X_pca[:,1], X_pca[:,2]"
   ]
  },
  {
   "cell_type": "code",
   "execution_count": null,
   "metadata": {},
   "outputs": [],
   "source": [
    "SELECTED_COLUMN_FOR_COLOR = 'Vacuum'\n",
    "\n",
    "\n",
    "plt.figure(figsize=(16,5))\n",
    "ax1 = plt.subplot(1, 2, 1)\n",
    "data.plot.scatter(x='pca-1', y='pca-2', c=SELECTED_COLUMN_FOR_COLOR, s=12, alpha=0.2, cmap=plt.get_cmap('coolwarm'), ax=ax1)\n",
    "data[data.failures==1].plot.scatter(x='pca-1', y='pca-2', s=24, alpha=0.9, c='none', edgecolors='black', ax=ax1)\n",
    "ax2 = plt.subplot(1, 2, 2)\n",
    "data.plot.scatter(x='pca-1', y='pca-3', s=12, c=SELECTED_COLUMN_FOR_COLOR, alpha=0.2, cmap=plt.get_cmap('coolwarm'), ax=ax2)\n",
    "data[data.failures==1].plot.scatter(x='pca-1', y='pca-3', s=24, alpha=0.9, c='none', edgecolors='black', ax=ax2)"
   ]
  },
  {
   "cell_type": "markdown",
   "metadata": {},
   "source": [
    "<br/>\n",
    "<br/>\n",
    "<br/>\n",
    "<br/>\n",
    "<br/>\n",
    "---\n",
    "# 3.2 Dimensionality Reduction: T-SNE"
   ]
  },
  {
   "cell_type": "code",
   "execution_count": null,
   "metadata": {},
   "outputs": [],
   "source": [
    "import time\n",
    "time_start = time.time()\n",
    "\n",
    "from sklearn.manifold import TSNE\n",
    "\n",
    "tsne = TSNE(n_components=2, verbose=1, perplexity=100, n_iter=500)\n",
    "tsne_results = tsne.fit_transform(X)\n",
    "\n",
    "print 't-SNE done! Time elapsed: {} seconds'.format(time.time()-time_start)"
   ]
  },
  {
   "cell_type": "code",
   "execution_count": null,
   "metadata": {
    "collapsed": true
   },
   "outputs": [],
   "source": [
    "data['tsne-1.1'], data['tsne-2.1'] = tsne_results[:,0], tsne_results[:,1]"
   ]
  },
  {
   "cell_type": "code",
   "execution_count": null,
   "metadata": {},
   "outputs": [],
   "source": [
    "SELECTED_COLUMN_FOR_COLOR = 'Vacuum'\n",
    "\n",
    "\n",
    "plt.figure(figsize=(12,8))\n",
    "ax1 = plt.subplot(1, 1, 1)\n",
    "data.plot.scatter(x='tsne-1.1', y='tsne-2.1', s=10, c=SELECTED_COLUMN_FOR_COLOR, alpha=0.2, cmap=plt.get_cmap('coolwarm'), ax=ax1)\n",
    "data[data.failures==1].plot.scatter(x='tsne-1.1', y='tsne-2.1', s=24, alpha=0.9, c='none', edgecolors='black', ax=ax1)"
   ]
  },
  {
   "cell_type": "markdown",
   "metadata": {},
   "source": [
    "<br/>\n",
    "<br/>\n",
    "<br/>\n",
    "<br/>\n",
    "<br/>\n",
    "---\n",
    "# 4.1 Models: Decision Tree"
   ]
  },
  {
   "cell_type": "code",
   "execution_count": null,
   "metadata": {},
   "outputs": [],
   "source": [
    "from sklearn import tree\n",
    "from sklearn.metrics import accuracy_score\n",
    "\n",
    "# Create and fit the decision tree.\n",
    "clf = tree.DecisionTreeClassifier(max_depth=4)\n",
    "clf = clf.fit(X, y)\n",
    "\n",
    "# Get the predicted values\n",
    "y_pred = clf.predict(X)\n",
    "\n",
    "# How good is it? Lets check the accuracy\n",
    "accuracy = accuracy_score(y, y_pred)\n",
    "print 'Accuracy: {}'.format(accuracy)"
   ]
  },
  {
   "cell_type": "code",
   "execution_count": null,
   "metadata": {},
   "outputs": [],
   "source": [
    "from sklearn.metrics import confusion_matrix\n",
    "\n",
    "cnf_matrix = confusion_matrix(y, y_pred, labels=[0,1])\n",
    "\n",
    "# cnf_matrix = cnf_matrix.astype('float') / cnf_matrix.sum(axis=1)[:, np.newaxis]\n",
    "\n",
    "sns.heatmap(cnf_matrix, annot=True, fmt=\"d\", linewidths=.5)\n",
    "plt.ylabel('True label')\n",
    "plt.xlabel('Predicted label')"
   ]
  },
  {
   "cell_type": "code",
   "execution_count": null,
   "metadata": {
    "collapsed": true
   },
   "outputs": [],
   "source": [
    "# import graphviz \n",
    "\n",
    "# dot_data = tree.export_graphviz(clf, feature_names=data.columns[1:25], out_file=None) \n",
    "# graph = graphviz.Source(dot_data) \n",
    "# graph.render(\"tree-visualisation\") "
   ]
  },
  {
   "cell_type": "markdown",
   "metadata": {},
   "source": [
    "<br/>\n",
    "<br/>\n",
    "<br/>\n",
    "<br/>\n",
    "<br/>\n",
    "---\n",
    "# 4.2 Models: Neural Network"
   ]
  },
  {
   "cell_type": "code",
   "execution_count": null,
   "metadata": {},
   "outputs": [],
   "source": [
    "from sklearn.neural_network import MLPClassifier\n",
    "\n",
    "from sklearn.preprocessing import StandardScaler\n",
    "\n",
    "scaler = StandardScaler().fit(X)\n",
    "X = scaler.transform(X)\n",
    "\n",
    "nn_clf = MLPClassifier(solver='lbfgs', alpha=1e-5, hidden_layer_sizes=(50, 20), max_iter=1000)\n",
    "nn_clf.fit(X, y)\n",
    "\n",
    "# Get the predicted values\n",
    "y_pred = nn_clf.predict(X)\n",
    "\n",
    "# How good is it? Lets check the accuracy\n",
    "accuracy = accuracy_score(y, y_pred)\n",
    "\n",
    "print 'Accuracy: {}'.format(accuracy)"
   ]
  },
  {
   "cell_type": "markdown",
   "metadata": {},
   "source": [
    "<br/>\n",
    "<br/>\n",
    "<br/>\n",
    "<br/>\n",
    "<br/>\n",
    "---\n",
    "# 5. DEMO"
   ]
  },
  {
   "cell_type": "code",
   "execution_count": null,
   "metadata": {
    "collapsed": true
   },
   "outputs": [],
   "source": [
    "X = data[data.columns[1:]].values\n",
    "y = data.failures.values\n",
    "\n",
    "scaler = StandardScaler().fit(X)\n",
    "X = scaler.transform(X)"
   ]
  },
  {
   "cell_type": "code",
   "execution_count": null,
   "metadata": {},
   "outputs": [],
   "source": [
    "from sklearn import tree\n",
    "\n",
    "clf = tree.DecisionTreeClassifier(max_depth=4)\n",
    "clf = clf.fit(X, y)\n",
    "\n",
    "# Get the predicted values\n",
    "y_pred = clf.predict(X)\n",
    "\n",
    "# How good is it? Lets check the accuracy\n",
    "accuracy = accuracy_score(y, y_pred)\n",
    "\n",
    "print 'Accuracy: {}'.format(accuracy)"
   ]
  },
  {
   "cell_type": "code",
   "execution_count": null,
   "metadata": {},
   "outputs": [],
   "source": [
    "from sklearn.neural_network import MLPClassifier\n",
    "\n",
    "nn_clf = MLPClassifier(solver='lbfgs', alpha=1e-5, hidden_layer_sizes=(50, 20), max_iter=1000)\n",
    "nn_clf.fit(X, y)\n",
    "\n",
    "# Get the predicted values\n",
    "y_pred = nn_clf.predict(X)\n",
    "\n",
    "# How good is it? Lets check the accuracy\n",
    "accuracy = accuracy_score(y, y_pred)\n",
    "\n",
    "print 'Accuracy: {}'.format(accuracy)"
   ]
  },
  {
   "cell_type": "code",
   "execution_count": null,
   "metadata": {
    "collapsed": true
   },
   "outputs": [],
   "source": []
  }
 ],
 "metadata": {
  "kernelspec": {
   "display_name": "Python 2",
   "language": "python",
   "name": "python2"
  },
  "language_info": {
   "codemirror_mode": {
    "name": "ipython",
    "version": 2
   },
   "file_extension": ".py",
   "mimetype": "text/x-python",
   "name": "python",
   "nbconvert_exporter": "python",
   "pygments_lexer": "ipython2",
   "version": "2.7.10"
  }
 },
 "nbformat": 4,
 "nbformat_minor": 1
}
